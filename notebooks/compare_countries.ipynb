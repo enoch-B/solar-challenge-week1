{
 "cells": [
  {
   "cell_type": "code",
   "execution_count": null,
   "id": "68f03745",
   "metadata": {},
   "outputs": [],
   "source": [
    "import sys\n",
    "import os\n",
    "sys.path.append(os.path.abspath(os.path.join(os.getcwd(), '..')))\n",
    "\n",
    "from scripts.solar_comparsion import SolarCountryData, SolarComparison\n",
    "\n",
    "benin = SolarCountryData(\"./data/benin-malanville_clean.csv\", \"Benin\")\n",
    "sierra = SolarCountryData(\"./data/sierraleone-bumbuna_clean.csv\", \"Sierra Leone\")\n",
    "togo = SolarCountryData(\"./data/togo-dapaong_qc_clean.csv\", \"Togo\")\n",
    "\n",
    "comparison = SolarComparison([benin, sierra, togo])\n"
   ]
  },
  {
   "cell_type": "code",
   "execution_count": null,
   "id": "08659041",
   "metadata": {},
   "outputs": [],
   "source": [
    "comparison.summary_table()\n"
   ]
  },
  {
   "cell_type": "code",
   "execution_count": null,
   "id": "98fd72c7",
   "metadata": {},
   "outputs": [],
   "source": [
    "comparison.plot_boxplot(\"GHI\")\n",
    "comparison.plot_boxplot(\"DNI\")\n",
    "comparison.plot_boxplot(\"DHI\")\n"
   ]
  },
  {
   "cell_type": "code",
   "execution_count": null,
   "id": "73993ceb",
   "metadata": {},
   "outputs": [],
   "source": [
    "stat, p = comparison.run_anova(\"GHI\")\n",
    "print(f\"ANOVA Result for GHI: F = {stat:.2f}, p = {p:.4f}\")\n"
   ]
  },
  {
   "cell_type": "code",
   "execution_count": null,
   "id": "5ad31b63",
   "metadata": {},
   "outputs": [],
   "source": []
  }
 ],
 "metadata": {
  "kernelspec": {
   "display_name": ".venv",
   "language": "python",
   "name": "python3"
  },
  "language_info": {
   "name": "python",
   "version": "3.13.3"
  }
 },
 "nbformat": 4,
 "nbformat_minor": 5
}
